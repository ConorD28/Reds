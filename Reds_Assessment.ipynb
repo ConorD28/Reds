{
  "nbformat": 4,
  "nbformat_minor": 0,
  "metadata": {
    "colab": {
      "provenance": [],
      "authorship_tag": "ABX9TyMzVXIpdNTbaDI2pVY12n3v",
      "include_colab_link": true
    },
    "kernelspec": {
      "name": "python3",
      "display_name": "Python 3"
    },
    "language_info": {
      "name": "python"
    }
  },
  "cells": [
    {
      "cell_type": "markdown",
      "metadata": {
        "id": "view-in-github",
        "colab_type": "text"
      },
      "source": [
        "<a href=\"https://colab.research.google.com/github/ConorD28/Reds/blob/main/Reds_Assessment.ipynb\" target=\"_parent\"><img src=\"https://colab.research.google.com/assets/colab-badge.svg\" alt=\"Open In Colab\"/></a>"
      ]
    },
    {
      "cell_type": "code",
      "execution_count": 3,
      "metadata": {
        "id": "b6I-jgMv1pv6"
      },
      "outputs": [],
      "source": [
        "import pandas as pd\n",
        "import numpy as np\n",
        "import matplotlib.pyplot as plt\n",
        "%matplotlib inline\n",
        "import seaborn as sns"
      ]
    },
    {
      "cell_type": "code",
      "source": [
        "df = pd.read_csv('data (1).csv')"
      ],
      "metadata": {
        "id": "n-4wEhAF11op"
      },
      "execution_count": 4,
      "outputs": []
    },
    {
      "cell_type": "code",
      "source": [
        "df.head()"
      ],
      "metadata": {
        "id": "2B6KpZ0C15rU"
      },
      "execution_count": null,
      "outputs": []
    },
    {
      "cell_type": "code",
      "source": [
        "df.isnull().sum()"
      ],
      "metadata": {
        "id": "DgVYpi_l953D",
        "colab": {
          "base_uri": "https://localhost:8080/"
        },
        "outputId": "2386e7fd-1525-45a0-ec89-caeaff416b08"
      },
      "execution_count": 6,
      "outputs": [
        {
          "output_type": "execute_result",
          "data": {
            "text/plain": [
              "PID                             0\n",
              "INNING_KEY                      0\n",
              "BATTER_IN_INNING_KEY            0\n",
              "PITCH_NUMBER                    0\n",
              "OUT_KEY                         0\n",
              "BALLS                           0\n",
              "STRIKES                         0\n",
              "IS_RUNNER_ON_1B                 0\n",
              "IS_RUNNER_ON_2B                 0\n",
              "IS_RUNNER_ON_3B                 0\n",
              "PITCHER_KEY                     0\n",
              "THROW_SIDE_KEY                  0\n",
              "PITCH_TYPE_TRACKED_KEY          0\n",
              "EVENT_RESULT_KEY             7258\n",
              "PITCH_RESULT_KEY                0\n",
              "INDUCED_VERTICAL_BREAK          0\n",
              "HORIZONTAL_BREAK                0\n",
              "SPIN_RATE_ABSOLUTE              0\n",
              "RELEASE_SPEED                   0\n",
              "RELEASE_SIDE                    0\n",
              "RELEASE_HEIGHT                  0\n",
              "RELEASE_EXTENSION               0\n",
              "HORIZONTAL_APPROACH_ANGLE       0\n",
              "VERTICAL_APPROACH_ANGLE         0\n",
              "PLATE_X                         0\n",
              "PLATE_Z                         0\n",
              "dtype: int64"
            ]
          },
          "metadata": {},
          "execution_count": 6
        }
      ]
    },
    {
      "cell_type": "code",
      "source": [
        "df_pitchers_grouped = df.groupby(by = \"PITCHER_KEY\")\n",
        "df_pitchers_means = df_pitchers_grouped.aggregate(np.mean) #get mean for each stat by pitcher"
      ],
      "metadata": {
        "id": "c0-WED_o-LaV",
        "colab": {
          "base_uri": "https://localhost:8080/"
        },
        "outputId": "c6bafda8-2ee9-471b-abf6-520236bcd406"
      },
      "execution_count": 7,
      "outputs": [
        {
          "output_type": "stream",
          "name": "stderr",
          "text": [
            "<ipython-input-7-a11693672652>:2: FutureWarning: The operation <function mean at 0x7aaa80124550> failed on a column. If any error is raised, this will raise an exception in a future version of pandas. Drop these columns to avoid this warning.\n",
            "  df_pitchers_means = df_pitchers_grouped.aggregate(np.mean) #get mean for each stat by pitcher\n"
          ]
        }
      ]
    },
    {
      "cell_type": "code",
      "source": [
        "df_pitchers_grouped.head()"
      ],
      "metadata": {
        "id": "f4F1lNKacOw0"
      },
      "execution_count": null,
      "outputs": []
    },
    {
      "cell_type": "code",
      "source": [
        "df_pitchers_means2 = df_pitchers_means.iloc[:, [10,11,12,13,14,15,16,17,18]] #get stats that dewpoint will affect"
      ],
      "metadata": {
        "id": "iYAd0bUwRO6W"
      },
      "execution_count": 8,
      "outputs": []
    },
    {
      "cell_type": "code",
      "source": [
        "df_sorted = df.sort_values('PITCHER_KEY')"
      ],
      "metadata": {
        "id": "wA8szIjxDdsv"
      },
      "execution_count": 9,
      "outputs": []
    },
    {
      "cell_type": "code",
      "source": [
        "df_sorted2 = df_sorted.iloc[:, [10,15,16,17,18,19,20,21,22,23]]"
      ],
      "metadata": {
        "id": "3eHKwhTSP4VL"
      },
      "execution_count": 10,
      "outputs": []
    },
    {
      "cell_type": "code",
      "source": [
        "df_sorted2.columns"
      ],
      "metadata": {
        "id": "DCFaaJ9b_U0l",
        "colab": {
          "base_uri": "https://localhost:8080/"
        },
        "outputId": "40833983-5b92-4984-ed7a-3f746b894b04"
      },
      "execution_count": null,
      "outputs": [
        {
          "output_type": "execute_result",
          "data": {
            "text/plain": [
              "Index(['PITCHER_KEY', 'INDUCED_VERTICAL_BREAK', 'HORIZONTAL_BREAK',\n",
              "       'SPIN_RATE_ABSOLUTE', 'RELEASE_SPEED', 'RELEASE_SIDE', 'RELEASE_HEIGHT',\n",
              "       'RELEASE_EXTENSION', 'HORIZONTAL_APPROACH_ANGLE',\n",
              "       'VERTICAL_APPROACH_ANGLE'],\n",
              "      dtype='object')"
            ]
          },
          "metadata": {},
          "execution_count": 11
        }
      ]
    },
    {
      "cell_type": "code",
      "source": [
        "df_pitchers_means2.columns"
      ],
      "metadata": {
        "id": "tjeAkOcrX_R9",
        "colab": {
          "base_uri": "https://localhost:8080/"
        },
        "outputId": "46af66ca-aef1-4644-f5ca-62011e49518f"
      },
      "execution_count": null,
      "outputs": [
        {
          "output_type": "execute_result",
          "data": {
            "text/plain": [
              "Index(['INDUCED_VERTICAL_BREAK', 'HORIZONTAL_BREAK', 'SPIN_RATE_ABSOLUTE',\n",
              "       'RELEASE_SPEED', 'RELEASE_SIDE', 'RELEASE_HEIGHT', 'RELEASE_EXTENSION',\n",
              "       'HORIZONTAL_APPROACH_ANGLE', 'VERTICAL_APPROACH_ANGLE'],\n",
              "      dtype='object')"
            ]
          },
          "metadata": {},
          "execution_count": 12
        }
      ]
    },
    {
      "cell_type": "code",
      "source": [
        "#Get DEWPOINT_AFFECTED:\n",
        "j = 0\n",
        "prev = df_sorted2.iloc[0][0]\n",
        "df_sorted3 = df_sorted2.iloc[:, [1,2,3,4,5,6,7,8,9]] #removes Pitcher Key\n",
        "for i in range(9889):\n",
        "  if df_sorted2.iloc[i][0] != prev: #once pitcher changes increase j\n",
        "    j = j + 1\n",
        "  pitch_values = df_sorted3.iloc[i] - df_pitchers_means2.iloc[j] #gets how far off stats are from pitcher's mean for those stats for each pitch\n",
        "  pitch_values2 = abs(pitch_values)\n",
        "  dp_probability = pitch_values2.sum()/1312 #get dewpoit probability by summing how far off stats are from pitcher's mean then dividing by 1350\n",
        "  df_sorted.at[i, 'DEWPOINT_AFFECTED'] = dp_probability\n",
        "  prev = df_sorted2.iloc[i][0]"
      ],
      "metadata": {
        "id": "d8F5I2WFE4at"
      },
      "execution_count": 11,
      "outputs": []
    },
    {
      "cell_type": "code",
      "source": [
        "df_sorted['DEWPOINT_AFFECTED'].min()"
      ],
      "metadata": {
        "colab": {
          "base_uri": "https://localhost:8080/"
        },
        "id": "1VEwAFb6eS1w",
        "outputId": "b25ba482-4409-41c8-d819-b01d59db9355"
      },
      "execution_count": null,
      "outputs": [
        {
          "output_type": "execute_result",
          "data": {
            "text/plain": [
              "0.006229236789951102"
            ]
          },
          "metadata": {},
          "execution_count": 26
        }
      ]
    },
    {
      "cell_type": "code",
      "source": [
        "df_sorted['DEWPOINT_AFFECTED'].max()"
      ],
      "metadata": {
        "colab": {
          "base_uri": "https://localhost:8080/"
        },
        "id": "5O97y3sEpxTx",
        "outputId": "cff815a1-7984-4cc1-d904-891e01a43908"
      },
      "execution_count": null,
      "outputs": [
        {
          "output_type": "execute_result",
          "data": {
            "text/plain": [
              "0.9996575927482338"
            ]
          },
          "metadata": {},
          "execution_count": 27
        }
      ]
    },
    {
      "cell_type": "code",
      "source": [
        "sns.displot(data = df_sorted, x = 'DEWPOINT_AFFECTED')"
      ],
      "metadata": {
        "id": "fAVTXJs4CdZ3",
        "colab": {
          "base_uri": "https://localhost:8080/",
          "height": 523
        },
        "outputId": "01723691-3be7-4cc1-b4dc-86dcdcaafabf"
      },
      "execution_count": null,
      "outputs": [
        {
          "output_type": "execute_result",
          "data": {
            "text/plain": [
              "<seaborn.axisgrid.FacetGrid at 0x7e548d16ea40>"
            ]
          },
          "metadata": {},
          "execution_count": 25
        },
        {
          "output_type": "display_data",
          "data": {
            "text/plain": [
              "<Figure size 500x500 with 1 Axes>"
            ],
            "image/png": "[encoded data removed]"
          },
          "metadata": {}
        }
      ]
    },
    {
      "cell_type": "code",
      "source": [
        "sns.scatterplot(data = df_sorted, x = 'PITCHER_KEY', y = 'DEWPOINT_AFFECTED').set_title(\"Pitcher Key vs Dewpoint Affected\")"
      ],
      "metadata": {
        "id": "hNCe8V5WB6Aa",
        "colab": {
          "base_uri": "https://localhost:8080/",
          "height": 489
        },
        "outputId": "bc39dcc3-004b-4778-92b1-905e630df3c5"
      },
      "execution_count": null,
      "outputs": [
        {
          "output_type": "execute_result",
          "data": {
            "text/plain": [
              "Text(0.5, 1.0, 'Pitcher Key vs Dewpoint Affected')"
            ]
          },
          "metadata": {},
          "execution_count": 30
        },
        {
          "output_type": "display_data",
          "data": {
            "text/plain": [
              "<Figure size 640x480 with 1 Axes>"
            ],
            "image/png": "[encoded data removed]"
          },
          "metadata": {}
        }
      ]
    },
    {
      "cell_type": "code",
      "source": [
        "df_submit = df_sorted[['PID', 'DEWPOINT_AFFECTED']]\n",
        "df_submit.to_csv('submission.csv') #write csv"
      ],
      "metadata": {
        "id": "ANBO9Rd5PdS3"
      },
      "execution_count": null,
      "outputs": []
    },
    {
      "cell_type": "code",
      "source": [
        "from sklearn.model_selection import train_test_split\n",
        "from numpy.random.mtrand import random_sample\n",
        "from sklearn.preprocessing import StandardScaler\n",
        "from sklearn.pipeline import make_pipeline\n",
        "from sklearn.model_selection import train_test_split\n",
        "from sklearn.linear_model import LinearRegression, Ridge, RidgeCV, Lasso, LassoCV, ElasticNet, ElasticNetCV\n",
        "from sklearn.metrics import mean_squared_error, mean_absolute_error"
      ],
      "metadata": {
        "id": "DWQxGxv5H71z"
      },
      "execution_count": 12,
      "outputs": []
    },
    {
      "cell_type": "code",
      "source": [
        "def Scores(y, y_pred, y_full):\n",
        "  MSE = mean_squared_error(y, y_pred)\n",
        "  MAE = mean_absolute_error(y, y_pred)\n",
        "  Normalized_RMSE = (np.sqrt(MSE)/np.mean(y_full))*100\n",
        "  Normalized_MAE = (MAE/np.mean(y_full))*100\n",
        "  Avg_Normalized_Score = (Normalized_RMSE + Normalized_MAE)/2\n",
        "  print(f'Avg. Normalized Score:{ Avg_Normalized_Score:.1f}%')\n",
        "  print(f'Normalized RMSE:{ Normalized_RMSE:.1f}%')\n",
        "  print(f'Normalized MAE:{ Normalized_MAE:.2f}%')\n",
        "  print(f'MAE:{ MAE:.3f}')\n",
        "  print(f'RMSE:{ np.sqrt(MSE):.3f}')\n",
        "  return Avg_Normalized_Score"
      ],
      "metadata": {
        "id": "t_Th9aBdIQ-o"
      },
      "execution_count": 13,
      "outputs": []
    },
    {
      "cell_type": "code",
      "source": [
        "def RLE_Model(X, y, choice): #Function to run Ridge, Lasso, or ElasticNet model\n",
        "  X_train, X_test, y_train, y_test = train_test_split(X, y, test_size=0.30, random_state=0) #Train/Test\n",
        "\n",
        "  if(choice==\"Ridge\"):\n",
        "    alphas = np.geomspace(1e-10, 1e10, num=100)\n",
        "    pipeline = make_pipeline(StandardScaler(), RidgeCV(alphas=alphas))\n",
        "    pipeline.fit(X_train, y_train)\n",
        "\n",
        "  if(choice==\"Lasso\"):\n",
        "    alphas = np.geomspace(1e-10, 1e10, num=21)\n",
        "    pipeline = make_pipeline(StandardScaler(), LassoCV(alphas=alphas))\n",
        "    pipeline.fit(X_train, y_train)\n",
        "\n",
        "  if(choice==\"Elastic\"):\n",
        "    l1_ratio = [0, 0.3, 0.5, 0.7,  0.9, 1]\n",
        "    alphas = np.geomspace(1e-10, 1e10, num=100)\n",
        "    pipeline = make_pipeline(StandardScaler(), ElasticNetCV(alphas=alphas, l1_ratio=l1_ratio, max_iter=100000))\n",
        "    pipeline.fit(X_train, y_train)\n",
        "\n",
        "  print(f'Chosen alpha  {pipeline.steps[1][1].alpha_:.6f}')\n",
        "  print(f'Intercept (b) {pipeline.steps[1][1].intercept_:.6f}')\n",
        "  print(pd.Series(pipeline.steps[1][1].coef_, index=X.columns),'\\n')\n",
        "\n",
        "  #Predicted training values:\n",
        "  y_train_pred = pipeline.predict(X_train)\n",
        "  print(y_train_pred)\n",
        "  print()\n",
        "\n",
        "  #Training Scores:\n",
        "  Avg_N_Score_train = Scores(y_train, y_train_pred, y)\n",
        "  print()\n",
        "\n",
        "  #Predicted test set values:\n",
        "  y_test_pred = pipeline.predict(X_test)\n",
        "  print(y_test_pred)\n",
        "  print()\n",
        "\n",
        "  #Test Set Scores:\n",
        "  Avg_N_Score_test = Scores(y_test, y_test_pred, y)\n",
        "  print(f'Difference of avg normalized scores:{ Avg_N_Score_test - Avg_N_Score_train:.3f}%') #Difference between testing and traing scores to check if my bias-variance tradeoff is good\n",
        "  print()"
      ],
      "metadata": {
        "id": "QnhnD8Z0IUVZ"
      },
      "execution_count": 14,
      "outputs": []
    },
    {
      "cell_type": "code",
      "source": [
        "from sklearn.svm import LinearSVR\n",
        "\n",
        "def SVM_model(X, y):\n",
        "  svm_reg = make_pipeline(StandardScaler(), LinearSVR(epsilon=0.1))\n",
        "  svm_reg.fit(X, y)\n",
        "\n",
        "  X_train, X_test, y_train, y_test = train_test_split(X, y, test_size=0.30, random_state=0)\n",
        "  y_train_pred = svm_reg.predict(X_train)\n",
        "  print(y_train_pred)\n",
        "\n",
        "  Avg_N_Score_train = Scores(y_train, y_train_pred, y)\n",
        "  print()\n",
        "\n",
        "  y_test_pred = svm_reg.predict(X_test)\n",
        "  print(y_test_pred)\n",
        "  print()\n",
        "\n",
        "  Avg_N_Score_test = Scores(y_test, y_test_pred, y)\n",
        "  print(f'Difference of avg scores:{ Avg_N_Score_test - Avg_N_Score_train:.3f}%') #Difference between testing and traing scores to check if my bias-variance tradeoff is good\n",
        "  print()"
      ],
      "metadata": {
        "id": "rw6VynThO86g"
      },
      "execution_count": 15,
      "outputs": []
    },
    {
      "cell_type": "code",
      "source": [
        "X = df_sorted.loc[:,'INDUCED_VERTICAL_BREAK':'VERTICAL_APPROACH_ANGLE']\n",
        "y = df_sorted['DEWPOINT_AFFECTED']"
      ],
      "metadata": {
        "id": "JsKJA8ktQSlm"
      },
      "execution_count": 24,
      "outputs": []
    },
    {
      "cell_type": "code",
      "source": [
        "RLE_Model(X, y, 'Lasso') #really bad for all 3 options\n",
        "SVM_Model(X, y)"
      ],
      "metadata": {
        "id": "NIAmRK5FIfho"
      },
      "execution_count": null,
      "outputs": []
    },
    {
      "cell_type": "code",
      "source": [
        "#Do the following to get autosklearn to work in Google Colab:\n",
        "!pip install Cython==0.29.36\n",
        "!pip uninstall scipy -y\n",
        "!pip install scipy==1.9\n",
        "!pip uninstall pyparsing -y\n",
        "!pip install pyparsing==2.4\n",
        "!pip uninstall scikit_learn -y\n",
        "!pip uninstall imbalanced-learn -y\n",
        "!pip uninstall mlxtend -y\n",
        "!pip uninstall yellowbrick -y\n",
        "!pip install scikit-learn==0.24.2 --no-build-isolation\n",
        "!pip install auto-sklearn"
      ],
      "metadata": {
        "id": "uOAnVddjvS6c"
      },
      "execution_count": null,
      "outputs": []
    },
    {
      "cell_type": "code",
      "source": [
        "#Do the following to get autosklearn to work in Google Colab:\n",
        "import os\n",
        "os._exit(00)"
      ],
      "metadata": {
        "id": "gfPd9ClYvYVB"
      },
      "execution_count": null,
      "outputs": []
    },
    {
      "cell_type": "code",
      "source": [
        "import autosklearn"
      ],
      "metadata": {
        "id": "Xme0SY2VvZpT"
      },
      "execution_count": 1,
      "outputs": []
    },
    {
      "cell_type": "code",
      "source": [
        "from pprint import pprint\n",
        "import sklearn.datasets\n",
        "import sklearn.metrics\n",
        "import autosklearn.regression\n",
        "import matplotlib.pyplot as plt\n",
        "\n",
        "def Auto_Model(X, y): #Uses AutoML to make a model\n",
        "  X_train, X_test, y_train, y_test = train_test_split(X, y, test_size=0.30, random_state=0) #Train/Test\n",
        "\n",
        "  automl = autosklearn.regression.AutoSklearnRegressor(\n",
        "    time_left_for_this_task=1800,\n",
        "    per_run_time_limit=450,\n",
        "    tmp_folder=\"/tmp/autosklearn_regression_example_tmp\",\n",
        "  )\n",
        "  automl.fit(X_train, y_train, dataset_name=\"Pitches\")\n",
        "\n",
        "  #Print models used:\n",
        "  print(automl.leaderboard())\n",
        "  print()\n",
        "\n",
        "  #Predicted training values:\n",
        "  y_train_pred = automl.predict(X_train)\n",
        "  print(y_train_pred)\n",
        "  print()\n",
        "\n",
        "  #Training Scores:\n",
        "  Avg_N_Score_train = Scores(y_train, y_train_pred, y)\n",
        "  print()\n",
        "\n",
        "  #Predicted testing values:\n",
        "  test_predictions = automl.predict(X_test)\n",
        "  print(test_predictions)\n",
        "  print()\n",
        "\n",
        "  #Testing Scores:\n",
        "  Avg_N_Score_test = Scores(y_test, test_predictions, y)\n",
        "  print(f'Difference of avg normalized scores:{ Avg_N_Score_test - Avg_N_Score_train:.3f}%') #Difference between testing and traing scores to check if my bias-variance tradeoff is good\n",
        "  print()"
      ],
      "metadata": {
        "id": "NGE3lhFqvb3c"
      },
      "execution_count": 19,
      "outputs": []
    },
    {
      "cell_type": "code",
      "source": [
        "Auto_Model(X,y) #performed really bad"
      ],
      "metadata": {
        "id": "co1_RCzKvewJ"
      },
      "execution_count": null,
      "outputs": []
    },
    {
      "cell_type": "code",
      "source": [
        "#These variables have text data so I drop these\n",
        "df_sorted.drop('THROW_SIDE_KEY', axis=1, inplace=True)\n",
        "df_sorted.drop('PITCH_TYPE_TRACKED_KEY', axis=1, inplace=True)\n",
        "df_sorted.drop('EVENT_RESULT_KEY', axis=1, inplace=True)\n",
        "df_sorted.drop('PITCH_RESULT_KEY', axis=1, inplace=True)"
      ],
      "metadata": {
        "id": "m2xtPfJhvMD0"
      },
      "execution_count": 22,
      "outputs": []
    },
    {
      "cell_type": "code",
      "source": [
        "X = df_sorted.loc[:, 'PID':'PLATE_Z']\n",
        "y = df_sorted['DEWPOINT_AFFECTED']\n",
        "RLE_Model(X, y, 'Lasso') #really bad for all 3 options\n",
        "SVM_Model(X, y)"
      ],
      "metadata": {
        "id": "Y2BTkTSkvfGv"
      },
      "execution_count": null,
      "outputs": []
    },
    {
      "cell_type": "code",
      "source": [
        "Auto_Model(X, y)"
      ],
      "metadata": {
        "id": "KBEM6QEgwt6X",
        "colab": {
          "base_uri": "https://localhost:8080/"
        },
        "outputId": "d481fc87-1c89-45d0-a441-0e5c6b98fa27"
      },
      "execution_count": 27,
      "outputs": [
        {
          "output_type": "stream",
          "name": "stdout",
          "text": [
            "          rank  ensemble_weight                 type      cost    duration\n",
            "model_id                                                                  \n",
            "8            1             0.22          extra_trees  0.825071  124.090265\n",
            "15           2             0.32  k_nearest_neighbors  0.826249    2.310741\n",
            "11           3             0.12        random_forest  0.844509   60.181752\n",
            "22           4             0.02    gradient_boosting  0.850942    2.398202\n",
            "18           5             0.02    gradient_boosting  0.861276   24.125505\n",
            "4            6             0.18    gradient_boosting  0.872370    3.908713\n",
            "29           7             0.08        random_forest  0.985392  109.490915\n",
            "3            8             0.04           libsvm_svr  0.986604  139.091677\n",
            "\n",
            "[0.09412284 0.75179282 0.08432555 ... 0.08221722 0.23117113 0.06251022]\n",
            "\n",
            "Avg. Normalized Score:34.4%\n",
            "Normalized RMSE:43.3%\n",
            "Normalized MAE:25.49%\n",
            "MAE:0.047\n",
            "RMSE:0.080\n",
            "\n",
            "[0.12285225 0.17486982 0.15634545 ... 0.16869962 0.1800665  0.21227675]\n",
            "\n",
            "Avg. Normalized Score:64.6%\n",
            "Normalized RMSE:73.2%\n",
            "Normalized MAE:55.92%\n",
            "MAE:0.104\n",
            "RMSE:0.136\n",
            "Difference of avg normalized scores:30.176%\n",
            "\n"
          ]
        }
      ]
    }
  ]
}